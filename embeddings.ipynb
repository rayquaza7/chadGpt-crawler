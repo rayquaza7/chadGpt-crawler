{
 "cells": [
  {
   "cell_type": "code",
   "execution_count": null,
   "metadata": {},
   "outputs": [],
   "source": [
    "# clean data, create embeddings and upload to pinecone"
   ]
  },
  {
   "cell_type": "code",
   "execution_count": 177,
   "metadata": {},
   "outputs": [
    {
     "data": {
      "text/plain": [
       "True"
      ]
     },
     "execution_count": 177,
     "metadata": {},
     "output_type": "execute_result"
    }
   ],
   "source": [
    "import os\n",
    "import pandas as pd\n",
    "from dotenv import load_dotenv\n",
    "import os\n",
    "import openai\n",
    "import pinecone\n",
    "from tqdm import tqdm\n",
    "import math\n",
    "import requests\n",
    "from bs4 import BeautifulSoup\n",
    "from sqlalchemy import create_engine\n",
    "\n",
    "load_dotenv()"
   ]
  },
  {
   "cell_type": "code",
   "execution_count": 183,
   "metadata": {},
   "outputs": [],
   "source": [
    "# set constants\n",
    "EMBEDDINGS_MODEL = \"text-embedding-ada-002\"\n",
    "EMBEDDINGS_DIMENSION = 1536\n",
    "EMBEDDINGS_MAX_TOKENS = 8191\n",
    "COMPLETION_MODEL = \"text-davinci-003\"\n",
    "DAVINCI_MAX_TOKENS = 4096\n",
    "\n",
    "PINECONE_BATCH_SIZE = 32\n",
    "# pinecone index name and name for company we are building for\n",
    "COMPANY_NAME = \"ubc\""
   ]
  },
  {
   "cell_type": "code",
   "execution_count": 184,
   "metadata": {},
   "outputs": [],
   "source": [
    "openai.api_key = os.getenv(\"OPENAI_API_KEY\")\n",
    "pinecone.init(\n",
    "    api_key=os.environ.get('PINECONE_API_KEY'),\n",
    "    environment=\"us-west1-gcp\"\n",
    ")\n",
    "pinecone_index = pinecone.Index(COMPANY_NAME)\n",
    "DATABASE_URL = os.getenv(\"DATABASE_URL\")"
   ]
  },
  {
   "cell_type": "code",
   "execution_count": 313,
   "metadata": {},
   "outputs": [],
   "source": [
    "# 1000 tokens ~ 750 words; there is no way to get the number of tokens from the API for 2nd gen models for now\n",
    "# 1 token ~ 4 characters; ceil to be safe\n",
    "def token_estimate(text):\n",
    "    return int(math.ceil(len(text) / 4))\n",
    "\n",
    "\n",
    "# we know that openai ada model costs $0.0004 / 1K tokens\n",
    "def cost_estimate(tokens):\n",
    "    return tokens / 1000 * 0.0004\n",
    "\n",
    "# get embeddings for text\n",
    "def get_embedding(text: str) -> list[float]:\n",
    "    result = openai.Embedding.create(\n",
    "        model=EMBEDDINGS_MODEL,\n",
    "        input=text\n",
    "    )\n",
    "    return result[\"data\"][0][\"embedding\"]"
   ]
  },
  {
   "cell_type": "code",
   "execution_count": 189,
   "metadata": {},
   "outputs": [
    {
     "name": "stdout",
     "output_type": "stream",
     "text": [
      "The sql extension is already loaded. To reload it, use:\n",
      "  %reload_ext sql\n"
     ]
    }
   ],
   "source": [
    "%load_ext sql\n",
    "%sql $DATABASE_URL\n",
    "engine = create_engine(DATABASE_URL)"
   ]
  },
  {
   "cell_type": "code",
   "execution_count": 300,
   "metadata": {},
   "outputs": [
    {
     "data": {
      "text/html": [
       "<div>\n",
       "<style scoped>\n",
       "    .dataframe tbody tr th:only-of-type {\n",
       "        vertical-align: middle;\n",
       "    }\n",
       "\n",
       "    .dataframe tbody tr th {\n",
       "        vertical-align: top;\n",
       "    }\n",
       "\n",
       "    .dataframe thead th {\n",
       "        text-align: right;\n",
       "    }\n",
       "</style>\n",
       "<table border=\"1\" class=\"dataframe\">\n",
       "  <thead>\n",
       "    <tr style=\"text-align: right;\">\n",
       "      <th></th>\n",
       "      <th>id</th>\n",
       "      <th>url</th>\n",
       "      <th>title</th>\n",
       "      <th>data</th>\n",
       "      <th>company_id</th>\n",
       "      <th>embedded</th>\n",
       "    </tr>\n",
       "  </thead>\n",
       "  <tbody>\n",
       "    <tr>\n",
       "      <th>16803</th>\n",
       "      <td>25367</td>\n",
       "      <td>https://communityengagement.ubc.ca/community-e...</td>\n",
       "      <td>Community Engagement at UBC - Community Engage...</td>\n",
       "      <td>[Community engagement is not new at UBC, it ha...</td>\n",
       "      <td>1</td>\n",
       "      <td>0</td>\n",
       "    </tr>\n",
       "    <tr>\n",
       "      <th>11622</th>\n",
       "      <td>21087</td>\n",
       "      <td>https://courses.students.ubc.ca/cs/coursesched...</td>\n",
       "      <td>BA 563 - Course - UBC Student Services</td>\n",
       "      <td>[Comments]</td>\n",
       "      <td>1</td>\n",
       "      <td>0</td>\n",
       "    </tr>\n",
       "    <tr>\n",
       "      <th>6521</th>\n",
       "      <td>14963</td>\n",
       "      <td>https://courses.students.ubc.ca/cs/coursesched...</td>\n",
       "      <td>PLAN - Courses - UBC Student Services</td>\n",
       "      <td>[The requested subject is either no longer off...</td>\n",
       "      <td>1</td>\n",
       "      <td>0</td>\n",
       "    </tr>\n",
       "    <tr>\n",
       "      <th>7963</th>\n",
       "      <td>20939</td>\n",
       "      <td>https://courses.students.ubc.ca/cs/coursesched...</td>\n",
       "      <td>BA 504 - Course - UBC Student Services</td>\n",
       "      <td>[Comments]</td>\n",
       "      <td>1</td>\n",
       "      <td>0</td>\n",
       "    </tr>\n",
       "    <tr>\n",
       "      <th>9995</th>\n",
       "      <td>18296</td>\n",
       "      <td>https://courses.students.ubc.ca/cs/coursesched...</td>\n",
       "      <td>APSC 171 T1L - Engineering Drawing and CAD/CAM...</td>\n",
       "      <td>[Orthographic projections, axonometric and per...</td>\n",
       "      <td>1</td>\n",
       "      <td>0</td>\n",
       "    </tr>\n",
       "  </tbody>\n",
       "</table>\n",
       "</div>"
      ],
      "text/plain": [
       "          id                                                url  \\\n",
       "16803  25367  https://communityengagement.ubc.ca/community-e...   \n",
       "11622  21087  https://courses.students.ubc.ca/cs/coursesched...   \n",
       "6521   14963  https://courses.students.ubc.ca/cs/coursesched...   \n",
       "7963   20939  https://courses.students.ubc.ca/cs/coursesched...   \n",
       "9995   18296  https://courses.students.ubc.ca/cs/coursesched...   \n",
       "\n",
       "                                                   title  \\\n",
       "16803  Community Engagement at UBC - Community Engage...   \n",
       "11622             BA 563 - Course - UBC Student Services   \n",
       "6521               PLAN - Courses - UBC Student Services   \n",
       "7963              BA 504 - Course - UBC Student Services   \n",
       "9995   APSC 171 T1L - Engineering Drawing and CAD/CAM...   \n",
       "\n",
       "                                                    data  company_id  embedded  \n",
       "16803  [Community engagement is not new at UBC, it ha...           1         0  \n",
       "11622                                         [Comments]           1         0  \n",
       "6521   [The requested subject is either no longer off...           1         0  \n",
       "7963                                          [Comments]           1         0  \n",
       "9995   [Orthographic projections, axonometric and per...           1         0  "
      ]
     },
     "execution_count": 300,
     "metadata": {},
     "output_type": "execute_result"
    }
   ],
   "source": [
    "import re\n",
    "\n",
    "df = pd.read_sql('SELECT * FROM crawl_data', engine)\n",
    "\n",
    "# convert data column into list of p texts. data is a list of p tags but when u read from db, it is a string\n",
    "df['data'] = df['data'].apply(lambda x: re.findall(r'\\\"(.*?)\\\"', x))\n",
    "df.sample(5)"
   ]
  },
  {
   "cell_type": "code",
   "execution_count": 301,
   "metadata": {},
   "outputs": [
    {
     "name": "stdout",
     "output_type": "stream",
     "text": [
      "rows deleted duplicate urls 652\n"
     ]
    }
   ],
   "source": [
    "# remove duplicate urls\n",
    "old_rows = df.shape[0]\n",
    "df = df.drop_duplicates(subset=['url'], keep='first')\n",
    "# print number of rows after removing duplicates\n",
    "print('rows deleted duplicate urls', old_rows - df.shape[0])"
   ]
  },
  {
   "cell_type": "code",
   "execution_count": 302,
   "metadata": {},
   "outputs": [
    {
     "name": "stdout",
     "output_type": "stream",
     "text": [
      "rows deleted duplicate titles 4660\n"
     ]
    }
   ],
   "source": [
    "# delete duplicate titles\n",
    "old_rows = df.shape[0]\n",
    "df = df.drop_duplicates(subset=['title'], keep='first')\n",
    "# print number of rows after removing duplicates\n",
    "print('rows deleted duplicate titles', old_rows - df.shape[0])"
   ]
  },
  {
   "cell_type": "code",
   "execution_count": 303,
   "metadata": {},
   "outputs": [],
   "source": [
    "# find most common words in data list\n",
    "from collections import Counter\n",
    "from itertools import chain\n",
    "\n",
    "# flatten list of lists\n",
    "data = list(chain.from_iterable(df['data']))\n",
    "# get most common words, returns list of tuples\n",
    "most_common = Counter(data).most_common(10)\n",
    "# convert to list of words\n",
    "most_common = [x[0] for x in most_common]\n",
    "\n",
    "# remove 10 most common words from lists of data\n",
    "df['data'] = df['data'].apply(lambda x: [word for word in x if word not in most_common])"
   ]
  },
  {
   "cell_type": "code",
   "execution_count": 304,
   "metadata": {},
   "outputs": [
    {
     "data": {
      "text/html": [
       "<div>\n",
       "<style scoped>\n",
       "    .dataframe tbody tr th:only-of-type {\n",
       "        vertical-align: middle;\n",
       "    }\n",
       "\n",
       "    .dataframe tbody tr th {\n",
       "        vertical-align: top;\n",
       "    }\n",
       "\n",
       "    .dataframe thead th {\n",
       "        text-align: right;\n",
       "    }\n",
       "</style>\n",
       "<table border=\"1\" class=\"dataframe\">\n",
       "  <thead>\n",
       "    <tr style=\"text-align: right;\">\n",
       "      <th></th>\n",
       "      <th>id</th>\n",
       "      <th>url</th>\n",
       "      <th>title</th>\n",
       "      <th>data</th>\n",
       "      <th>company_id</th>\n",
       "      <th>embedded</th>\n",
       "    </tr>\n",
       "  </thead>\n",
       "  <tbody>\n",
       "    <tr>\n",
       "      <th>11478</th>\n",
       "      <td>19798</td>\n",
       "      <td>https://courses.students.ubc.ca/cs/coursesched...</td>\n",
       "      <td>ASIA 413 W01 - Section - UBC Student Services</td>\n",
       "      <td>[]</td>\n",
       "      <td>1</td>\n",
       "      <td>0</td>\n",
       "    </tr>\n",
       "    <tr>\n",
       "      <th>3813</th>\n",
       "      <td>12347</td>\n",
       "      <td>https://courses.students.ubc.ca/cs/coursesched...</td>\n",
       "      <td>FRE 460 - Course - UBC Student Services</td>\n",
       "      <td>[]</td>\n",
       "      <td>1</td>\n",
       "      <td>0</td>\n",
       "    </tr>\n",
       "    <tr>\n",
       "      <th>12860</th>\n",
       "      <td>21445</td>\n",
       "      <td>https://courses.students.ubc.ca/cs/coursesched...</td>\n",
       "      <td>BAMS 508 - Optimal Decision Making II - UBC St...</td>\n",
       "      <td>[Models and methods in discrete optimization; ...</td>\n",
       "      <td>1</td>\n",
       "      <td>0</td>\n",
       "    </tr>\n",
       "    <tr>\n",
       "      <th>586</th>\n",
       "      <td>9229</td>\n",
       "      <td>https://courses.students.ubc.ca/cs/coursesched...</td>\n",
       "      <td>ARCH 549 - Graduate Project Part II - UBC Stud...</td>\n",
       "      <td>[Design component, completion, and defense of ...</td>\n",
       "      <td>1</td>\n",
       "      <td>0</td>\n",
       "    </tr>\n",
       "    <tr>\n",
       "      <th>4942</th>\n",
       "      <td>13495</td>\n",
       "      <td>https://courses.students.ubc.ca/cs/coursesched...</td>\n",
       "      <td>LIBR 596 - Professional Experience - UBC Stude...</td>\n",
       "      <td>[Completion of the MLIS Core. Courses directly...</td>\n",
       "      <td>1</td>\n",
       "      <td>0</td>\n",
       "    </tr>\n",
       "  </tbody>\n",
       "</table>\n",
       "</div>"
      ],
      "text/plain": [
       "          id                                                url  \\\n",
       "11478  19798  https://courses.students.ubc.ca/cs/coursesched...   \n",
       "3813   12347  https://courses.students.ubc.ca/cs/coursesched...   \n",
       "12860  21445  https://courses.students.ubc.ca/cs/coursesched...   \n",
       "586     9229  https://courses.students.ubc.ca/cs/coursesched...   \n",
       "4942   13495  https://courses.students.ubc.ca/cs/coursesched...   \n",
       "\n",
       "                                                   title  \\\n",
       "11478      ASIA 413 W01 - Section - UBC Student Services   \n",
       "3813             FRE 460 - Course - UBC Student Services   \n",
       "12860  BAMS 508 - Optimal Decision Making II - UBC St...   \n",
       "586    ARCH 549 - Graduate Project Part II - UBC Stud...   \n",
       "4942   LIBR 596 - Professional Experience - UBC Stude...   \n",
       "\n",
       "                                                    data  company_id  embedded  \n",
       "11478                                                 []           1         0  \n",
       "3813                                                  []           1         0  \n",
       "12860  [Models and methods in discrete optimization; ...           1         0  \n",
       "586    [Design component, completion, and defense of ...           1         0  \n",
       "4942   [Completion of the MLIS Core. Courses directly...           1         0  "
      ]
     },
     "execution_count": 304,
     "metadata": {},
     "output_type": "execute_result"
    }
   ],
   "source": [
    "df.sample(5)"
   ]
  },
  {
   "cell_type": "code",
   "execution_count": 305,
   "metadata": {},
   "outputs": [
    {
     "name": "stdout",
     "output_type": "stream",
     "text": [
      "rows deleted empty data 4242\n"
     ]
    }
   ],
   "source": [
    "# remove empty data\n",
    "old_rows = df.shape[0]\n",
    "df = df[df['data'].apply(lambda x: len(x) > 0)]\n",
    "# print number of rows after removing duplicates\n",
    "print('rows deleted empty data', old_rows - df.shape[0])"
   ]
  },
  {
   "cell_type": "code",
   "execution_count": 306,
   "metadata": {},
   "outputs": [
    {
     "data": {
      "text/html": [
       "<div>\n",
       "<style scoped>\n",
       "    .dataframe tbody tr th:only-of-type {\n",
       "        vertical-align: middle;\n",
       "    }\n",
       "\n",
       "    .dataframe tbody tr th {\n",
       "        vertical-align: top;\n",
       "    }\n",
       "\n",
       "    .dataframe thead th {\n",
       "        text-align: right;\n",
       "    }\n",
       "</style>\n",
       "<table border=\"1\" class=\"dataframe\">\n",
       "  <thead>\n",
       "    <tr style=\"text-align: right;\">\n",
       "      <th></th>\n",
       "      <th>id</th>\n",
       "      <th>url</th>\n",
       "      <th>title</th>\n",
       "      <th>data</th>\n",
       "      <th>company_id</th>\n",
       "      <th>embedded</th>\n",
       "    </tr>\n",
       "  </thead>\n",
       "  <tbody>\n",
       "    <tr>\n",
       "      <th>9711</th>\n",
       "      <td>18025</td>\n",
       "      <td>https://courses.students.ubc.ca/cs/coursesched...</td>\n",
       "      <td>ANTH 200 001 - Public Anthropology: Engagement...</td>\n",
       "      <td>[Examines the range of approaches to public an...</td>\n",
       "      <td>1</td>\n",
       "      <td>0</td>\n",
       "    </tr>\n",
       "    <tr>\n",
       "      <th>6913</th>\n",
       "      <td>15317</td>\n",
       "      <td>https://courses.students.ubc.ca/cs/coursesched...</td>\n",
       "      <td>RES 509 - Advanced Conservation Science - UBC ...</td>\n",
       "      <td>[Equivalents: ZOOL 509, For more information o...</td>\n",
       "      <td>1</td>\n",
       "      <td>0</td>\n",
       "    </tr>\n",
       "    <tr>\n",
       "      <th>5665</th>\n",
       "      <td>14191</td>\n",
       "      <td>https://courses.students.ubc.ca/cs/coursesched...</td>\n",
       "      <td>MTRL 594 - Advanced Composite Materials - UBC ...</td>\n",
       "      <td>[Processing and properties of advanced polymer...</td>\n",
       "      <td>1</td>\n",
       "      <td>0</td>\n",
       "    </tr>\n",
       "    <tr>\n",
       "      <th>4054</th>\n",
       "      <td>12575</td>\n",
       "      <td>https://courses.students.ubc.ca/cs/coursesched...</td>\n",
       "      <td>GEOG 410 - Environment and Society - UBC Stude...</td>\n",
       "      <td>[Geographical analysis of society-environment ...</td>\n",
       "      <td>1</td>\n",
       "      <td>0</td>\n",
       "    </tr>\n",
       "    <tr>\n",
       "      <th>4588</th>\n",
       "      <td>13068</td>\n",
       "      <td>https://courses.students.ubc.ca/cs/coursesched...</td>\n",
       "      <td>JRNL 555A - International Reporting - INTL REP...</td>\n",
       "      <td>[JRNL 555A - INTERNATIONAL REPORTING is 2nd YR...</td>\n",
       "      <td>1</td>\n",
       "      <td>0</td>\n",
       "    </tr>\n",
       "  </tbody>\n",
       "</table>\n",
       "</div>"
      ],
      "text/plain": [
       "         id                                                url  \\\n",
       "9711  18025  https://courses.students.ubc.ca/cs/coursesched...   \n",
       "6913  15317  https://courses.students.ubc.ca/cs/coursesched...   \n",
       "5665  14191  https://courses.students.ubc.ca/cs/coursesched...   \n",
       "4054  12575  https://courses.students.ubc.ca/cs/coursesched...   \n",
       "4588  13068  https://courses.students.ubc.ca/cs/coursesched...   \n",
       "\n",
       "                                                  title  \\\n",
       "9711  ANTH 200 001 - Public Anthropology: Engagement...   \n",
       "6913  RES 509 - Advanced Conservation Science - UBC ...   \n",
       "5665  MTRL 594 - Advanced Composite Materials - UBC ...   \n",
       "4054  GEOG 410 - Environment and Society - UBC Stude...   \n",
       "4588  JRNL 555A - International Reporting - INTL REP...   \n",
       "\n",
       "                                                   data  company_id  embedded  \n",
       "9711  [Examines the range of approaches to public an...           1         0  \n",
       "6913  [Equivalents: ZOOL 509, For more information o...           1         0  \n",
       "5665  [Processing and properties of advanced polymer...           1         0  \n",
       "4054  [Geographical analysis of society-environment ...           1         0  \n",
       "4588  [JRNL 555A - INTERNATIONAL REPORTING is 2nd YR...           1         0  "
      ]
     },
     "execution_count": 306,
     "metadata": {},
     "output_type": "execute_result"
    }
   ],
   "source": [
    "df.sample(5)"
   ]
  },
  {
   "cell_type": "code",
   "execution_count": 307,
   "metadata": {},
   "outputs": [],
   "source": [
    "# concat data into string\n",
    "df['data'] = df['data'].apply(lambda x: ' '.join(x))"
   ]
  },
  {
   "cell_type": "code",
   "execution_count": 308,
   "metadata": {},
   "outputs": [
    {
     "name": "stdout",
     "output_type": "stream",
     "text": [
      "rows deleted token estimate above 2500 84\n",
      "rows deleted token estimate below 20 849\n"
     ]
    }
   ],
   "source": [
    "# add token estimate column\n",
    "df['token_estimate'] = df['data'].apply(lambda x: token_estimate(x))\n",
    "# davinci token limit prompt + completion is 4096\n",
    "# so we will keep our request token to 2500 (excluding prompty suffix since its tiny)\n",
    "# if there is anything above 2500 tokens we will get rid of it for now\n",
    "# we will also get rid of anything below 20 tokens\n",
    "\n",
    "# remove rows with token estimate above 2500\n",
    "old_rows = df.shape[0]\n",
    "df = df[df['token_estimate'] < 2500]\n",
    "# print number of rows after removing duplicates\n",
    "print('rows deleted token estimate above 2500', old_rows - df.shape[0])\n",
    "\n",
    "# remove rows with token estimate below 20\n",
    "old_rows = df.shape[0]\n",
    "df = df[df['token_estimate'] > 20]\n",
    "# print number of rows after removing duplicates\n",
    "print('rows deleted token estimate below 20', old_rows - df.shape[0])"
   ]
  },
  {
   "cell_type": "code",
   "execution_count": 339,
   "metadata": {},
   "outputs": [
    {
     "name": "stdout",
     "output_type": "stream",
     "text": [
      "rows deleted metadata size above 10310 3\n"
     ]
    }
   ],
   "source": [
    "\n",
    "# metadata size limit is 10KB for pinecone\n",
    "# so we will remove rows with metadata size above 10310 bytes\n",
    "import sys\n",
    "\n",
    "df['metadata_size'] = df.apply(lambda x: sys.getsizeof(x.to_json()), axis=1)\n",
    "\n",
    "# remove rows with metadata size above 10310\n",
    "old_rows = df.shape[0]\n",
    "df = df[df['metadata_size'] < 10310]\n",
    "# print number of rows after removing duplicates\n",
    "print('rows deleted metadata size above 10310', old_rows - df.shape[0])"
   ]
  },
  {
   "cell_type": "code",
   "execution_count": 309,
   "metadata": {},
   "outputs": [],
   "source": [
    "# i want to summarize but it will take too long lmao, will summarize later"
   ]
  },
  {
   "cell_type": "code",
   "execution_count": 340,
   "metadata": {},
   "outputs": [
    {
     "name": "stderr",
     "output_type": "stream",
     "text": [
      "100%|██████████| 29/29 [01:52<00:00,  3.87s/it]\n"
     ]
    }
   ],
   "source": [
    "# get embeddings for each row and add to pinecone index\n",
    "for i in tqdm(range(0, df.shape[0], PINECONE_BATCH_SIZE)):\n",
    "    # set end position of batch\n",
    "    i_end = min(i+PINECONE_BATCH_SIZE, df.shape[0])\n",
    "    ids_batch = [str(n) for n in range(i, i_end)]\n",
    "    metadata_batch = df.iloc[i: i_end].to_dict('records')\n",
    "    # create embeddings for the data column in df\n",
    "    embeds = [get_embedding(text) for text in df.iloc[i: i_end]['data']]\n",
    "    to_upsert = zip(ids_batch, embeds, metadata_batch)\n",
    "    pinecone_index.upsert(vectors=list(to_upsert))"
   ]
  },
  {
   "cell_type": "code",
   "execution_count": 341,
   "metadata": {},
   "outputs": [
    {
     "name": "stderr",
     "output_type": "stream",
     "text": [
      "/var/folders/9d/s884qq5j7d51695f58y_xdk40000gn/T/ipykernel_4817/2048795062.py:2: SettingWithCopyWarning: \n",
      "A value is trying to be set on a copy of a slice from a DataFrame.\n",
      "Try using .loc[row_indexer,col_indexer] = value instead\n",
      "\n",
      "See the caveats in the documentation: https://pandas.pydata.org/pandas-docs/stable/user_guide/indexing.html#returning-a-view-versus-a-copy\n",
      "  df['embedded'] = 1\n"
     ]
    },
    {
     "data": {
      "text/plain": [
       "466"
      ]
     },
     "execution_count": 341,
     "metadata": {},
     "output_type": "execute_result"
    }
   ],
   "source": [
    "# the rows that have been added to pinecone index, set their embedded status to 1 in database\n",
    "df['embedded'] = 1\n",
    "df.to_sql('crawl_data', engine, if_exists='replace', index=False)"
   ]
  },
  {
   "cell_type": "code",
   "execution_count": null,
   "metadata": {},
   "outputs": [],
   "source": [
    "# lfggg"
   ]
  }
 ],
 "metadata": {
  "kernelspec": {
   "display_name": "argus",
   "language": "python",
   "name": "python3"
  },
  "language_info": {
   "codemirror_mode": {
    "name": "ipython",
    "version": 3
   },
   "file_extension": ".py",
   "mimetype": "text/x-python",
   "name": "python",
   "nbconvert_exporter": "python",
   "pygments_lexer": "ipython3",
   "version": "3.10.4 (main, Mar 31 2022, 03:37:37) [Clang 12.0.0 ]"
  },
  "orig_nbformat": 4,
  "vscode": {
   "interpreter": {
    "hash": "83806723b6362d6eeb841b04060d9b3ad7d66bf3bcd76d4da9da2ffb06253ac5"
   }
  }
 },
 "nbformat": 4,
 "nbformat_minor": 2
}
